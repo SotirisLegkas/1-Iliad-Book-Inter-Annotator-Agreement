{
 "cells": [
  {
   "cell_type": "markdown",
   "metadata": {},
   "source": [
    "## 1st Assignment\n",
    "You are provided with a set of Excel files (folder HW2). Each file comprises annotations of verses of an Iliad book, which have been produced by multiple annotators. Annotators belong to two groups. One group annotated the sentiment of the reader (themselves) and the other predicted the sentiment that the author (Homer) wanted to provoke to the reader. We want to study the inter-annotator agreement per group and shed light on the following two questions:\n",
    "* *Do readers feel the same emotions when reading the same texts?*, and \n",
    "* *Do readers agree when predicting the emotions that the author wanted to provoke?*"
   ]
  },
  {
   "cell_type": "markdown",
   "metadata": {},
   "source": [
    "1) Parse the filenames (hint: use `os`) and add them to a list named `filenames`. The list should only contain valid Excel filenames:\n",
    "```\n",
    ">>> filenames\n",
    ">>> ['f3662009.xlsx','f3662013.xlsx', 'f3662003.xlsx', 'f3662015.xlsx', 'f3662023.xlsx', 'f3662018.xlsx', 'f3662014.xlsx', 'f3662001.xlsx', 'f3662021.xlsx', 'f3662020.xlsx', 'f3662016.xlsx', 'f3662011.xlsx', 'f3662006.xlsx', 'f3662010.xlsx']\n",
    "```"
   ]
  },
  {
   "cell_type": "code",
   "execution_count": 31,
   "metadata": {},
   "outputs": [
    {
     "name": "stdout",
     "output_type": "stream",
     "text": [
      "['f3662001.xlsx', 'f3662003.xlsx', 'f3662006.xlsx', 'f3662009.xlsx', 'f3662010.xlsx', 'f3662011.xlsx', 'f3662013.xlsx', 'f3662014.xlsx', 'f3662015.xlsx', 'f3662016.xlsx', 'f3662018.xlsx', 'f3662020.xlsx', 'f3662021.xlsx', 'f3662023.xlsx']\n"
     ]
    }
   ],
   "source": [
    "import os\n",
    "os.chdir(r'..\HW2')\n",
    "filename=os.listdir(r'..\HW2')\n",
    "filenames=[]\n",
    "for i in range(len(filename)):\n",
    "    if 'xlsx' in filename[i]:\n",
    "        filenames.append(filename[i])\n",
    "print(filenames)"
   ]
  },
  {
   "cell_type": "markdown",
   "metadata": {},
   "source": [
    "2) Put the annotations of all the annotators into the same dataframe named `coders`. Set the index to `Id_verse`. Use boolean indexing to detect rows that have an empty value in the `Text` column (use `drop` and `loc`/`iloc`) and to drop them. Drop all the columns (not the index, of course) except from `Text`, `Subjectivity`, `Sentiment`, `Primary Emotion`. Add a column with the ID of the annotator, which is the part of the filename with the integers (e.g., 3662020 for f3662020.xlsx) and one with the respective group that the annotator belongs to: when the last integer is less than five, then the annotator belongs to G2 (predicting the sentiment that the author wanted to provoke), otherwise G1. The command coders.column should result the following output:\n",
    "\n",
    "```\n",
    ">>> coders.columns\n",
    ">>> Index(['Text', 'Subjectivity', 'Sentiment', 'Primary Emotion', 'ID', 'Group'], dtype='object')\n",
    "```\n",
    "The sentiment column was meant to comprise `+` for positive, `-` for negative, `0` for neutral, and `m` for mixed positive and negative. However, the annotators made mistakes. Normalise this column, so that it comprises only -1 (negative), 0 (neutral or nans), and 1 (positive or mixed). Feel free to make your own assumptions regarding the normalisation, if they can be reasonably argued for (e.g., the mixed polarity could be mapped to -1 as well).  "
   ]
  },
  {
   "cell_type": "code",
   "execution_count": 32,
   "metadata": {},
   "outputs": [
    {
     "name": "stderr",
     "output_type": "stream",
     "text": [
      "C:\\Users\\sotir\\AppData\\Local\\Temp/ipykernel_16432/3933276546.py:20: SettingWithCopyWarning: \n",
      "A value is trying to be set on a copy of a slice from a DataFrame\n",
      "\n",
      "See the caveats in the documentation: https://pandas.pydata.org/pandas-docs/stable/user_guide/indexing.html#returning-a-view-versus-a-copy\n",
      "  coders['Group'][i]='G2'\n",
      "C:\\Users\\sotir\\AppData\\Local\\Temp/ipykernel_16432/3933276546.py:27: SettingWithCopyWarning: \n",
      "A value is trying to be set on a copy of a slice from a DataFrame\n",
      "\n",
      "See the caveats in the documentation: https://pandas.pydata.org/pandas-docs/stable/user_guide/indexing.html#returning-a-view-versus-a-copy\n",
      "  coders.Sentiment[i]=0\n",
      "C:\\Users\\sotir\\AppData\\Local\\Temp/ipykernel_16432/3933276546.py:25: SettingWithCopyWarning: \n",
      "A value is trying to be set on a copy of a slice from a DataFrame\n",
      "\n",
      "See the caveats in the documentation: https://pandas.pydata.org/pandas-docs/stable/user_guide/indexing.html#returning-a-view-versus-a-copy\n",
      "  coders.Sentiment[i]=-1\n",
      "C:\\Users\\sotir\\AppData\\Local\\Temp/ipykernel_16432/3933276546.py:22: SettingWithCopyWarning: \n",
      "A value is trying to be set on a copy of a slice from a DataFrame\n",
      "\n",
      "See the caveats in the documentation: https://pandas.pydata.org/pandas-docs/stable/user_guide/indexing.html#returning-a-view-versus-a-copy\n",
      "  coders.Sentiment[i]=1\n"
     ]
    }
   ],
   "source": [
    "import pandas as pd\n",
    "\n",
    "#Create dataframe coders and add column ID\n",
    "coders=pd.DataFrame([])\n",
    "for i in range(len(filenames)):\n",
    "    x=pd.read_excel(filenames[i])\n",
    "    x['ID']=filenames[i][1:8]\n",
    "    coders=pd.concat([coders,x])\n",
    "\n",
    "#Set specific index, drop missing values and keep specific columns\n",
    "coders=coders.set_index('Id_verse')\n",
    "coders.dropna(subset=['Text'], inplace=True)\n",
    "coders=coders[['Text','Subjectivity', 'Sentiment', 'Primary Emotion','ID']]\n",
    "\n",
    "#Create column Group and put specific values in column Sentiment\n",
    "coders['Group']='G1'\n",
    "coders['Sentiment']=coders['Sentiment'].astype(str)\n",
    "for i in range(len(coders.ID)):\n",
    "    if int(coders['ID'][i][-1])<5:\n",
    "        coders['Group'][i]='G2'\n",
    "    if '+' in coders.Sentiment[i]:\n",
    "        coders.Sentiment[i]=1\n",
    "    else:\n",
    "        if '-' in coders.Sentiment[i]:\n",
    "            coders.Sentiment[i]=-1\n",
    "        else:\n",
    "            coders.Sentiment[i]=0"
   ]
  },
  {
   "cell_type": "markdown",
   "metadata": {},
   "source": [
    "3) Count and report the missing values per column. Then, fill the missing values of the columns Subjectivity and Sentiment with an appropriate value, based on your judgement. Check and show that they have been successfully addressed."
   ]
  },
  {
   "cell_type": "code",
   "execution_count": 33,
   "metadata": {},
   "outputs": [
    {
     "name": "stdout",
     "output_type": "stream",
     "text": [
      "Text                 0\n",
      "Subjectivity        11\n",
      "Sentiment            0\n",
      "Primary Emotion    415\n",
      "ID                   0\n",
      "Group                0\n",
      "dtype: int64\n",
      "Text                 0\n",
      "Subjectivity         0\n",
      "Sentiment            0\n",
      "Primary Emotion    415\n",
      "ID                   0\n",
      "Group                0\n",
      "dtype: int64\n"
     ]
    }
   ],
   "source": [
    "print(coders.isnull().sum())\n",
    "coders.Subjectivity=coders.Subjectivity.fillna(0)\n",
    "print(coders.isnull().sum())"
   ]
  },
  {
   "cell_type": "markdown",
   "metadata": {},
   "source": [
    "4) Now we want to separate the two groups. We will do that with a hierarchical index. First turn the values of the ID column into strings. Then, create a hierarchical index of 3 levels, with `Group` being the first, `ID` the second, and `Id_verse` the third in row.\n",
    "```\n",
    ">>> coders.index.names\n",
    ">>> ['Group', 'ID', 'Id_verse']\n",
    "```"
   ]
  },
  {
   "cell_type": "code",
   "execution_count": 34,
   "metadata": {},
   "outputs": [],
   "source": [
    "coders['ID']=coders['ID'].astype(str)\n",
    "\n",
    "#Drop missing indexes\n",
    "coders = coders[coders.index.notnull()]\n",
    "\n",
    "#Create hierarchical Index\n",
    "hierarchical_coders=coders.reset_index()\n",
    "hierarchical_coders=hierarchical_coders.set_index(['Group', 'ID', 'Id_verse'])"
   ]
  },
  {
   "cell_type": "markdown",
   "metadata": {},
   "source": [
    "5) Now we want to measure the inter-annotator agreement per group. Use your hierarchically indexed dataframe to compute the mean pairwise inter-annotator agreement for Subjectivity and Sentiment per group (use `loc` to get the respective values per annotator). Compare the two values. "
   ]
  },
  {
   "cell_type": "code",
   "execution_count": 44,
   "metadata": {},
   "outputs": [
    {
     "name": "stdout",
     "output_type": "stream",
     "text": [
      "The mean pairwise inter-annotator agreement for Subjectivity for group 1 is 8.15% and for group 2 is 16.07%\n",
      "The mean pairwise inter-annotator agreement for Sentiment for group 1 is 12.51% and for group 2 is 15.63%\n"
     ]
    }
   ],
   "source": [
    "from sklearn.metrics import cohen_kappa_score as kappa\n",
    "\n",
    "#Split the datasets in group 1 and group 2\n",
    "g1=hierarchical_coders.loc[['G1']]\n",
    "g2=hierarchical_coders.loc[['G2']]\n",
    "\n",
    "#Split the IDs in two datasets\n",
    "g1id=[]\n",
    "g2id=[]\n",
    "for i in range(len(filenames)):\n",
    "    if int(filenames[i][7:8])<5:\n",
    "        g2id.append(filenames[i][1:8])\n",
    "    else:\n",
    "        g1id.append(filenames[i][1:8])\n",
    "\n",
    "g1['Sentiment']=g1['Sentiment'].astype(float)\n",
    "g2['Sentiment']=g2['Sentiment'].astype(float)   \n",
    "\n",
    "#Use kappa function for each group between all possible annotator combination\n",
    "Subjectivity1=[]\n",
    "Sentiment1=[] \n",
    "for i in range(len(g1id)):\n",
    "    for j in range(i+1,len(g1id)):\n",
    "       Subjectivity1.append(kappa(g1.loc[pd.IndexSlice[:,g1id[i],:],['Subjectivity']],g1.loc[pd.IndexSlice[:,g1id[j],:],['Subjectivity']]))\n",
    "       Sentiment1.append( kappa(g1.loc[pd.IndexSlice[:,g1id[i],:],['Sentiment']],g1.loc[pd.IndexSlice[:,g1id[j],:],['Sentiment']]))\n",
    "\n",
    "Subjectivity2=[]\n",
    "Sentiment2=[]\n",
    "for i in range(len(g2id)):\n",
    "    for j in range(i+1,len(g2id)):\n",
    "       Subjectivity2.append(kappa(g2.loc[pd.IndexSlice[:,g2id[i],:],['Subjectivity']],g2.loc[pd.IndexSlice[:,g2id[j],:],['Subjectivity']]))\n",
    "       Sentiment2.append( kappa(g2.loc[pd.IndexSlice[:,g2id[i],:],['Sentiment']],g2.loc[pd.IndexSlice[:,g2id[j],:],['Sentiment']]))\n",
    "\n",
    "#Calculate the mean of the kappa values\n",
    "import numpy as np\n",
    "print('The mean pairwise inter-annotator agreement for Subjectivity for group 1 is '+\"{:.2f}\".format(np.mean(Subjectivity1)*100)+'%'+' and for group 2 is '+\"{:.2f}\".format(np.mean(Subjectivity2)*100)+'%')\n",
    "print('The mean pairwise inter-annotator agreement for Sentiment for group 1 is '+\"{:.2f}\".format(np.mean(Sentiment1)*100)+'%'+' and for group 2 is '+\"{:.2f}\".format(np.mean(Sentiment2)*100)+'%')"
   ]
  },
  {
   "cell_type": "markdown",
   "metadata": {},
   "source": [
    "Regarding Subjectivity, group 1 has almost half the percentage of mean pairwise inter-annotator agreement of group 2. On the other hand, the mean pairwise inter-annotator agreement for Sentiment has only a 3% difference between group 1 and group 2."
   ]
  },
  {
   "cell_type": "markdown",
   "metadata": {},
   "source": [
    "# Bonus\n",
    "* Annotate verses from the 1st book of Iliad (to serve as input for the next lectures and assignment) and gain one *extra* grade. \n",
    "* Guidelines: Open the given Excel file (IB1.xlsx) and for each verse annotate the polarity of the sentiment, the exact emotions and the hero who is speaking in the verse. A second tab exists that holds the polarities, emotions and heroes. If you find a hero speaking who is not listed or an emotion that should be added, please let me know.  "
   ]
  }
 ],
 "metadata": {
  "kernelspec": {
   "display_name": "Python 3 (ipykernel)",
   "language": "python",
   "name": "python3"
  },
  "language_info": {
   "codemirror_mode": {
    "name": "ipython",
    "version": 3
   },
   "file_extension": ".py",
   "mimetype": "text/x-python",
   "name": "python",
   "nbconvert_exporter": "python",
   "pygments_lexer": "ipython3",
   "version": "3.8.8"
  }
 },
 "nbformat": 4,
 "nbformat_minor": 2
}
